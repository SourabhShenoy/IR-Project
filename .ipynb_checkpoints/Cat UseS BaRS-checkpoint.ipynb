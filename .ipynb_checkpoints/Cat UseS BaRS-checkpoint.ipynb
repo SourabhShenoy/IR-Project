{
 "cells": [
  {
   "cell_type": "markdown",
   "metadata": {},
   "source": [
    "# Category and User Similarity Based Recommender System"
   ]
  },
  {
   "cell_type": "markdown",
   "metadata": {},
   "source": [
    "Team Members: Kritika Kurani, Shivanshu Arora, Sourabh Shenoy"
   ]
  },
  {
   "cell_type": "markdown",
   "metadata": {},
   "source": [
    "### Inroduction and Problem Statement: "
   ]
  },
  {
   "cell_type": "markdown",
   "metadata": {},
   "source": [
    "The web has a large collection of documents. Most of the time spent by a user on the web is often in search of information relevant to his topic of interest. This is where recommender systems come into play. Collaborative Filtering is one of the primary approaches used in recommender systems. However, it suffers from problems such as cold start and a sparse utility matrix. In this project, we implement a hybrid approach where we use collaborative filtering and movie genre which would solve the aforementioned problems, while also attempting to reduce the Root Mean Squared Error (RMSE). We compare this approach with another where we establish movie correlations based on genre compositions and wordnet similarity between genres.\n",
    "This project attempts to build a simpler model for movie recommendations using minimal and most important features."
   ]
  },
  {
   "cell_type": "markdown",
   "metadata": {},
   "source": [
    "### Related Work:"
   ]
  },
  {
   "cell_type": "markdown",
   "metadata": {},
   "source": [
    "### Previous Work:\n",
    "\n",
    "A) Collaborative Filtering based on User Preferences: User Similarity is measured based on Pearson Coefficient, which is measured using the formula [1] given below: <img src=\"pc.jpg\",width=300,height=300>\n",
    "\n",
    "\n",
    "Where, X is a user selected for recommendation, and  X' is a mean rating of user X. Then, σX is the standard deviation of rating of user X. Xi is the rating for the ith item by user X. Let Y be the other users. The Pearson correlation coefficient is always between -1 and 1.\n",
    "\n",
    "B) Genre Correlation: Each movie belongs to at least one genre. Correlation is found by introducing edges from every preceeding genres to the genres following it. For each edge, the counter for the genre-genre is incrememted. For example, if genre combination is G1 | G2 | G5, then G1 is selected as a criterion genre first and increase by one between a criterion genre G1 and another G2 and G5. Next, G2 is selected as a criterion genre, and increase by one between G2 and G5. After all the values are obtained, the rows and columns are normalised. [1]. User ratings are predcited based on the preferred genres of users, which is obtained explicitly, and the genre correlations of the genres that movie belongs to.\n",
    "\n",
    "### How our approach differentiates:\n",
    "\n",
    "A) Collaborative Filtering:\n",
    "To measure user similarity, we use Pearson corrleation as above. We also determine the effect of demographics (age and gender) on user similarity and thereby movie rating predictions. \n",
    "\n",
    "B) Genre Correlation:\n",
    "Previous approaches have user preferred genres explicitly defined, much similar to netflix or movielens which asks new users to provide their preferred genres. Since we do not have that data available, we determine user preferred genres based on the pearson similarity calculated above. The three genres that were found to be prevalent among the neighbors of the user were assigned as that user's preferred genres. "
   ]
  },
  {
   "cell_type": "markdown",
   "metadata": {},
   "source": [
    "### Our Approach: "
   ]
  },
  {
   "cell_type": "markdown",
   "metadata": {},
   "source": [
    "### References:"
   ]
  },
  {
   "cell_type": "markdown",
   "metadata": {},
   "source": [
    "1) A Content Recommendation System Based on Category Correlations; Sang-Min Choi, Yo-Sub Han"
   ]
  }
 ],
 "metadata": {
  "anaconda-cloud": {},
  "kernelspec": {
   "display_name": "Python [cs670]",
   "language": "python",
   "name": "Python [cs670]"
  },
  "language_info": {
   "codemirror_mode": {
    "name": "ipython",
    "version": 2
   },
   "file_extension": ".py",
   "mimetype": "text/x-python",
   "name": "python",
   "nbconvert_exporter": "python",
   "pygments_lexer": "ipython2",
   "version": "2.7.13"
  }
 },
 "nbformat": 4,
 "nbformat_minor": 0
}
