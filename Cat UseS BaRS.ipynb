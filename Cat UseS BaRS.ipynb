{
 "cells": [
  {
   "cell_type": "markdown",
   "metadata": {},
   "source": [
    "# Category and User Similarity Based Recommender System"
   ]
  },
  {
   "cell_type": "markdown",
   "metadata": {},
   "source": [
    "### Team Members: \n",
    "Shivanshu Arora (126000303), Kritika Kurani (825000784),  Sourabh Shenoy (225009050)"
   ]
  },
  {
   "cell_type": "markdown",
   "metadata": {},
   "source": [
    "## Inroduction and Problem Statement: "
   ]
  },
  {
   "cell_type": "markdown",
   "metadata": {},
   "source": [
    "The web has a large collection of documents. Most of the time spent by a user on the web is often in search of information relevant to his topic of interest. This is where recommender systems come into play. Collaborative Filtering is one of the primary approaches used in recommender systems. However, it suffers from problems such as cold start and a sparse utility matrix. In this project, we implement a hybrid approach where we use collaborative filtering and movie genre which would solve the aforementioned problems, while also attempting to reduce the Root Mean Squared Error (RMSE). We compare this approach with another where we establish movie correlations based on genre compositions and wordnet similarity between genres.\n",
    "This project attempts to build a simpler model for movie recommendations using minimal and most important features."
   ]
  },
  {
   "cell_type": "markdown",
   "metadata": {},
   "source": [
    "## Related Work:"
   ]
  },
  {
   "cell_type": "markdown",
   "metadata": {},
   "source": [
    "### Previous Work:\n",
    "\n",
    "A) **_Collaborative Filtering based on User Preferences [1]:_** User Similarity is measured based on Pearson Coefficient, which is measured using the formula given below: <img src=\"files/images/pc.jpg\",width=300,height=300,embed=True>\n",
    "\n",
    "\n",
    "Where, $\\textit{X}$ is a user selected for recommendation, and  $\\bar{X}$ is a mean rating of user $\\textit{X}$. Then, $σ_X$ is the standard deviation of rating of user $\\textit{X}$. $X_i$ is the rating for the ith item by user $\\textit{X}$. Let $\\textit{Y}$ be the other users. The Pearson correlation coefficient is always between -1 and 1.\n",
    "\n",
    "B) **_Genre Correlation [2]:_** Each movie belongs to at least one genre. Correlation is found by introducing edges from every preceeding genre to the genres following it. For each edge, the counter for the genre-genre is incrememted. For example, if genre combination is G1 | G2 | G5, then G1 is selected as a criterion genre first and increase by one between a criterion genre G1 and another G2 and G5. Next, G2 is selected as a criterion genre, and increase by one between G2 and G5. After all the values are obtained, the rows and columns are normalised. User ratings are predcited based on the preferred genres of users, which is obtained explicitly, and the genre correlations of the genres that movie belongs to.\n",
    "\n",
    "### How our approach differentiates:\n",
    "\n",
    "A) **_Collaborative Filtering:_**\n",
    "To measure user similarity, we use Pearson corrleation as above. We also determine the effect of demographics (age and gender) on user similarity and thereby movie rating predictions. \n",
    "\n",
    "B) **_Genre Correlation:_**\n",
    "Previous approaches have user preferred genres explicitly defined, much similar to netflix or movielens which asks new users to provide their preferred genres. Since we do not have that data available, we determine user preferred genres based on the pearson similarity calculated above. The three genres that were found to be prevalent among the neighbors of the user were assigned as that user's preferred genres. "
   ]
  },
  {
   "cell_type": "markdown",
   "metadata": {},
   "source": [
    "## Our Approach: "
   ]
  },
  {
   "cell_type": "markdown",
   "metadata": {},
   "source": [
    "### Dataset Used:"
   ]
  },
  {
   "cell_type": "markdown",
   "metadata": {},
   "source": [
    "Movielens 100k [3] dataset has been used in this project. \n",
    "1. __u.user__ has information such as user id, age, sex, occupation and zip code.\n",
    "2. __u.genre__ file contains the list of all genres. \n",
    "3. __u.item__ has data about the movie id, movie name, release date, imdb link and a boolean vector representing the combination of genres it belongs to. \n",
    "4. __ub.base__ file contains the user id, movie id and the corresponding rating. This data is used for training the recommender.\n",
    "5. __ub.test__ file contains similar data as ub.base. This file is used for testing the recommender created and evaluation."
   ]
  },
  {
   "cell_type": "markdown",
   "metadata": {},
   "source": [
    "We organized users, movies and ratings into separate classes.\n",
    "The class structure is as follows:\n",
    "### User Class:\n",
    "<img src=\"files/images/user.jpg\",width=500,height=500>\n",
    "\n",
    "### Movie Class:\n",
    "<img src=\"files/images/movie.jpg\",width=500,height=500>\n",
    "\n",
    "### Dataset Info:\n",
    "<img src=\"files/images/info.jpg\",width=500,height=600>\n"
   ]
  },
  {
   "cell_type": "code",
   "execution_count": 1,
   "metadata": {
    "collapsed": true
   },
   "outputs": [],
   "source": [
    "import numpy as np\n",
    "from nltk.corpus import wordnet as wn\n",
    "\n",
    "class User:\n",
    "    def __init__(self,user_id,age,sex,occupation,zipcode):\n",
    "        self.id = user_id\n",
    "        self.age = age\n",
    "        self.sex = sex\n",
    "        self.occupation = occupation\n",
    "        self.zipcode = zipcode\n",
    "        self.avg_rating = 0\n",
    "        self.pref_genre = []\n",
    "\n",
    "class Movie:\n",
    "    def __init__(self,movie_id,name,release_data,imdb_link,genre):\n",
    "        self.id = movie_id\n",
    "        self.name = name\n",
    "        self.release_date = release_data\n",
    "        self.imdb_link = imdb_link\n",
    "        self.genre = genre\n",
    "        self.avg_rating = 0\n",
    "\n",
    "\n",
    "class Rating:\n",
    "    def rating_matrix(self,rate_matrix,filename):\n",
    "        f = open(filename, \"r\")\n",
    "        ratings = f.readlines()\n",
    "        for r in ratings:\n",
    "            r = r.split(\"\\t\")\n",
    "            rate_matrix[int(r[0])-1][int(r[1])-1] = int(r[2])"
   ]
  },
  {
   "cell_type": "markdown",
   "metadata": {},
   "source": [
    "The next step was to convert data from files inti useable data structures. We created a class which will read the values from the corresponding files and populate the User, Movie and Rating objects. <br />\n",
    "This class also has methods that compute genre correlation by genre composition and wordnet similarity of genres."
   ]
  },
  {
   "cell_type": "code",
   "execution_count": 2,
   "metadata": {
    "collapsed": true
   },
   "outputs": [],
   "source": [
    "class Data:\n",
    "    def __init__(self):\n",
    "        self.genres_list = self.get_genres()\n",
    "        self.genre_corr = [[0 for col in range(19)] for row in range(19)]\n",
    "\n",
    "    def user_data(self):\n",
    "        users = []\n",
    "        f = open(\"./ml-100k/u.user\",\"r\")\n",
    "        lines = f.readlines()\n",
    "        for line in lines:\n",
    "            data = line.split(\"|\")\n",
    "            new_user = User(int(data[0])-1,int(data[1]),data[2],data[3],data[4])\n",
    "            users.append(new_user)\n",
    "        return users\n",
    "\n",
    "    def movies_data(self):\n",
    "        movies = []\n",
    "        f = open(\"./ml-100k/u.item\",\"r\")\n",
    "        lines = f.readlines()\n",
    "        # making a movie object\n",
    "        for line in lines:\n",
    "            new_movie = []\n",
    "            data = line.split(\"|\")\n",
    "            genre = {}\n",
    "            i = 5\n",
    "            for g in self.genres_list:\n",
    "                genre[g] = int(data[i])\n",
    "                i += 1\n",
    "            new_movie = Movie(int(data[0])-1,data[1],data[2],data[3],genre)\n",
    "            movies.append(new_movie)\n",
    "        return movies\n",
    "\n",
    "    def get_genres(self):\n",
    "        f_genre = open(\"./ml-100k/u.genre\", \"r\")\n",
    "        genres = []\n",
    "        # getting all the genres\n",
    "        lines = f_genre.readlines()\n",
    "        for line in lines:\n",
    "            line = line.split(\"|\")\n",
    "            genres.append(line[0])\n",
    "        return genres[:-1]\n",
    "\n",
    "    def create_rating_matrix(self,rate_matrix,filename):\n",
    "        r = Rating()\n",
    "        r.rating_matrix(rate_matrix,filename)\n",
    "\n",
    "    def genre_correlation1(self):\n",
    "        COLUMN_NUM = 19\n",
    "        data = np.genfromtxt('val.csv', delimiter=',')\n",
    "        if data.shape[0] % 19 == 0:\n",
    "            self.genre_corr = data.reshape((-1, 19))\n",
    "        else:\n",
    "            data = np.pad(data, (0, COLUMN_NUM - len(data) % COLUMN_NUM), 'constant')\n",
    "            self.genre_corr = data.reshape((-1, COLUMN_NUM))\n",
    "\n",
    "\n",
    "    def genre_correlation(self):\n",
    "        f = open(\"./ml-100k/u.item\", \"r\")\n",
    "        lines = f.readlines()\n",
    "        for i in range(19):\n",
    "            self.genre_corr[i][i] = 1\n",
    "        for line in lines:\n",
    "            data = line.split(\"|\")\n",
    "            genre = data[5:]\n",
    "            avg = 0\n",
    "            k = 0\n",
    "            genre = [int(x) for x in genre]\n",
    "            for i in range(19):\n",
    "                if genre[i] == 1:\n",
    "                    for j in range(i+1,19):\n",
    "                        if genre[j] == 1:\n",
    "                            self.genre_corr[i][j] += 1\n",
    "                            self.genre_corr[j][i] += 1\n",
    "\n",
    "        for i in range(19):\n",
    "            avg = sum(self.genre_corr[i])-1\n",
    "            if avg != 0:\n",
    "                self.genre_corr[i] = [(float(x)/avg) for x in self.genre_corr[i]]\n",
    "                self.genre_corr[i][i] = 1\n",
    "\n",
    "    def genre_corr_wordnet(self):\n",
    "        corr = np.zeros((len(self.genres_list), len(self.genres_list)))\n",
    "\n",
    "        for i in range(len(self.genres_list)):\n",
    "            g1 = wn.synsets(self.genres_list[i])\n",
    "            for j in range(len(self.genres_list)):\n",
    "                g2 = wn.synsets(self.genres_list[j])\n",
    "                maxval = 0\n",
    "                for a in g1:\n",
    "                    x = wn.synset(a._name)\n",
    "                    for b in g2:\n",
    "                        y = wn.synset(b._name)\n",
    "                        res = x.path_similarity(y)\n",
    "                        maxval = max(maxval,res)\n",
    "\n",
    "                corr[i][j] = maxval\n",
    "\n",
    "        return corr"
   ]
  },
  {
   "cell_type": "markdown",
   "metadata": {},
   "source": [
    "# Predicting the movie ratings"
   ]
  },
  {
   "cell_type": "markdown",
   "metadata": {},
   "source": [
    "## MoviePredict class\n",
    "\n",
    "We create a separate class that imports the Data class defined above and retrieves the data stored in files. Next, we work on predicting the rating based on users and movies obtained from the training and testing data files."
   ]
  },
  {
   "cell_type": "markdown",
   "metadata": {},
   "source": [
    "## Movie Clustering\n",
    "\n",
    "Since a movie belongs to one or more genres, the movies need to be clustered so that it now belongs to the most important genre. We used K-means clustering initialized with 19 genres to achieve this. The 19 centres were determined based on certain heuristics which speeds up convergence. This was achieved using sklearn module in Python."
   ]
  },
  {
   "cell_type": "markdown",
   "metadata": {},
   "source": [
    "## Ratings Matrix: Users to Genres\n",
    "\n",
    "The utility matrix in a movie recommender system provides the ratings from a user for a movie. Since we try to establish a relation between movies based on their genres, it is crucial to determine which genres are more interesting to users. To achieve this, we use the ratings available in training data. For each user movie pair, the prevalent genre of the movie is determined from the clustering created above and added to the list of movie genre pair.\n",
    "After all the ratings of the training data have been analyzed, we have a matrix that stores all the ratings by a user to a particular genre. Next, for every user genre pair, we determine the average of each, so we have the an average user genre rating at the end."
   ]
  },
  {
   "cell_type": "markdown",
   "metadata": {},
   "source": [
    "## Average User Ratings\n",
    "\n",
    "For every user, the average of all the ratings provided by him to the movies is calculated and stored in individual user objects."
   ]
  },
  {
   "cell_type": "markdown",
   "metadata": {},
   "source": [
    "## Normalize Ratings\n",
    "\n",
    "We normalize the ratings i.e. subtract the average user ratings from the user genre ratings in order to account for user personalities. Let's say a user is highly optimistic and provides high ratings (say, 3-5) to all the movies he's watched and another user is critical and provides a rating of 3 to a movie he really liked and a rating of 1 he dislikes. These two users may have similar tastes but if we do not normalize the ratings, these users may seem far from being similar."
   ]
  },
  {
   "cell_type": "markdown",
   "metadata": {},
   "source": [
    "## User User Similarity\n",
    "#### Pearson Similarity:\n",
    "\n",
    "After we calculate the normalized ratings for each user genre pair, we find the similarity based on these ratings using the Pearson correlation Coefficient defined above. <img src=\"files/images/similarity.png\",width=350,height=350>\n",
    "\n",
    "#### Age Bias:\n",
    "To determine the affect of age on a user user similarity, we peanlize the similarity with the age gap between the users. This bias was calculated as below: <img src=\"files/images/agebias.png\",width=600,height=600>\n",
    "Thus the higher the age difference between two users, the more is the similarity penalized. This was based on general observation which shows that people with same age prefer similar movies. This is evident in the results as well, as introducing this bias reduces the overall RMSE obtained on testing data.\n",
    "\n",
    "#### Sex Bias:\n",
    "Same gender people might not always like same movies, therefore using only a gender bias in determining the similarity between users increased the overall RMSE. However, when this bias was introduced along with the age bias above, the overall RMSE reduced. This clearly shows that people of same age and same sex tend to like similar movies. <img src=\"files/images/sexbias.png\",width=400,height=400>\n"
   ]
  },
  {
   "cell_type": "markdown",
   "metadata": {},
   "source": [
    "## Bias Form Mean Average - Prediction I\n",
    "\n",
    "To determine the user rating for a particular movie, we use weighted average of the ratings provided by other similar users which are the top 150 users with highest pearson correlation coefficient to the user in question.\n",
    "To predict a rating for a movie from a user, we determine the genre of the movie based on the clustering provided above. Then the predicted rating would be the sum of user's average rating for the genre, and of summation of product of similarity and normalized rating for the neighbors divided by the summation of similarities of all the neighbors. <br/> <img src=\"images\\biasform.png\",width=350,height=350> <br/>\n",
    "Where, rating for an active user _a_ and a movie _i_ is $\\it{r_{a,i}}$. $\\bar{r_a}$ is the average ratings for user _a_ and _P(x,y)_ is the pearson similarity between two users _x_ and _y_. _n_ signifies the nearest neighbors for user _a_. We chose to have the top 150 users with highest similarity as the neighbors for the user under consideration."
   ]
  },
  {
   "cell_type": "markdown",
   "metadata": {},
   "source": [
    "## User preferred genres\n",
    "\n",
    "Since we do not have explicit information about the preferred genres of each user, we determine the majority genres among similar users. \n",
    "We determine top 30 users with highest Pearson Correlation with the user in question. For each neighbor and the user himself, we take into account the three genres with highest normalized ratings. The three genres with the highest cumulative score are then designated as the user's preferred genres."
   ]
  },
  {
   "cell_type": "markdown",
   "metadata": {},
   "source": [
    "## Computing Genre Correlation\n",
    "\n",
    "We use two approaches to determine genre correlation:\n",
    "\n",
    "1). Since a movie belongs to at least one genre, say G1,G2,G5, there definitely exists some relation between the genres. To account for this relation, we create a matrix of genre by genre. Taking G1 as primary genre, we increment the value of G1-G2 by 1 and G1-G5 by 1. Next, considering G2 as primary genre, we increment G2-G5 by 1. After accounting for genre correlations of all the movie in the dataset, we normalize the correlation matrix created.\n",
    "\n",
    "2). Above approach has a limitation since they utilize genre combinations to establish connections between genres. This is highly dependent on the training set available. We try to alleviate this using WordNet. It provides similarity between words based on inherited hypernym.\n",
    "\n",
    "Both the approaches provided similar RMSE. If a movie's genres were available in the order of importance instead of aphabetically, the relation between genres could be determined more accurately. This could be crowdsourced and makes for the future scope of the project."
   ]
  },
  {
   "cell_type": "markdown",
   "metadata": {},
   "source": [
    "## Genre Correlation Ratings - Prediction II\n",
    "\n",
    "The first step here is to compute the average movie ratings, which were calculated and assigned to individual movie objects. \n",
    "To predict a rating for a user movie pair, we compute summation of correlation values of all pairs of user preferred genre and the genres of the movie under consideration. This value is then multiplied with the average movie rating and divided by the number of user preferred genres, which in our case if fixed to be 3, but in real time scenarios, can vary from user to user. <br/> <img src=\"images\\genre.png\",width=250,height=250> <br/>\n",
    "Where, rating for an active user _a_ and a movie _i_ is $\\it{r_{a,i}}$. _up_ refers to the user preferred genres determined above, _mg_ is the genres of the movie _i_. $\\it{c_{k,j}}$ is the genre correlation between genres _k_ and _j_. This correlation value can determined by either of the two approaches mentioned above. $\\mu_i$ is the average rating for the movie _i_. _|up|_ is the number of preferred genres for user _a_. This value is 3 as mentioned above."
   ]
  },
  {
   "cell_type": "code",
   "execution_count": 3,
   "metadata": {
    "collapsed": false
   },
   "outputs": [
    {
     "name": "stdout",
     "output_type": "stream",
     "text": [
      "Generating Rating matrix\n",
      "Generating Similarity Matrix\n",
      "RMSE= 1.39973173446\n",
      "RMSE 1= 1.39802811905\n",
      "RMSE 2= 2.56011827707\n"
     ]
    }
   ],
   "source": [
    "from movie_data import *\n",
    "from sklearn.cluster import KMeans\n",
    "import numpy as np\n",
    "\n",
    "class MoviePredict():\n",
    "    def __init__(self):\n",
    "        self.data = Data()\n",
    "        self.users = []\n",
    "        self.movies = []\n",
    "        self.train = []\n",
    "        self.test = []\n",
    "        self.genres = []\n",
    "        self.movie_cluster = None\n",
    "\n",
    "    def load_data(self):\n",
    "        self.users = self.data.user_data()\n",
    "        self.movies = self.data.movies_data()\n",
    "        self.genres = self.data.get_genres()\n",
    "        self.train = np.zeros((len(self.users),len(self.movies)))\n",
    "        self.test = np.zeros((len(self.users), len(self.movies)))\n",
    "        self.data.create_rating_matrix(self.train,\"./ml-100k/ub.base\")\n",
    "        self.data.create_rating_matrix(self.test,\"./ml-100k/ub.test\")\n",
    "\n",
    "    def movieClustering(self):\n",
    "        movie_genre = []\n",
    "        for m in self.movies:\n",
    "            mg = []\n",
    "            for g in self.genres:\n",
    "                mg.append(m.genre[g])\n",
    "            movie_genre.append(mg)\n",
    "\n",
    "        movie_genre = np.array(movie_genre)\n",
    "        self.movie_cluster = KMeans(n_clusters=len(self.genres)).fit_predict(movie_genre)\n",
    "\n",
    "    def create_ratingmatrix(self):\n",
    "        print \"Generating Rating matrix\"\n",
    "        avg = np.zeros(len(self.genres))\n",
    "        ratings = [[ [] for j in range(len(self.genres))] for i in range(len(self.users))]\n",
    "        for user in self.users:\n",
    "            for m in self.movies:\n",
    "                rate = self.train[user.id][m.id]\n",
    "                if rate != 0:\n",
    "                    genre = self.movie_cluster[m.id]\n",
    "                    ratings[user.id][genre].append(rate)\n",
    "\n",
    "            for i in range(len(self.genres)):\n",
    "                if ratings[user.id][i] != []:\n",
    "                    ratings[user.id][i] = np.mean(ratings[user.id][i])\n",
    "                else:\n",
    "                    ratings[user.id][i] = 0\n",
    "\n",
    "        self.ratings = ratings\n",
    "\n",
    "    def calculate_avgUserRating(self):\n",
    "        for user in self.users:\n",
    "            rating = self.ratings[user.id]\n",
    "            user.avg_rating = np.mean(rating)\n",
    "\n",
    "    def normalize_rating(self):\n",
    "        norm = [[[] for j in range(len(self.genres))] for i in range(len(self.users))]\n",
    "        for user in self.users:\n",
    "            norm[user.id] = [x - user.avg_rating for x in self.ratings[user.id]]\n",
    "\n",
    "        self.normRating = norm\n",
    "\n",
    "    def calculate_pearsonCC(self):\n",
    "        print \"Generating Similarity Matrix\"\n",
    "        maxage = 73\n",
    "        minage = 7\n",
    "        pcs = [[0 for j in range(len(self.users))] for i in range(len(self.users))]\n",
    "        for userA in self.users:\n",
    "            agerange = max(abs(userA.age - minage), abs(userA.age - maxage))\n",
    "            for userB in self.users:\n",
    "                if userA != userB:\n",
    "                    rateA = [x - userA.avg_rating for x in self.ratings[userA.id]]\n",
    "                    rateB = [x - userB.avg_rating for x in self.ratings[userB.id]]\n",
    "                    pcs[userA.id][userB.id] = np.dot(rateA, rateB)\n",
    "                    # including age bias\n",
    "                    pcs[userA.id][userB.id] *= float(agerange - abs(userA.age - userB.age)) / agerange\n",
    "                    # including gender bias\n",
    "                    if userA.sex == userB.sex:\n",
    "                        pcs[userA.id][userB.id] *= 1.1\n",
    "                    else:\n",
    "                        pcs[userA.id][userB.id] *= 0.9\n",
    "        self.pcs = pcs\n",
    "\n",
    "    def guess(self,user,movie,top_n):\n",
    "        gid = self.movie_cluster[movie]\n",
    "        pearson = self.pcs[user]\n",
    "        # agerange = max(abs(self.users[user].age - 7), abs(self.users[user].age - 73))\n",
    "        # for i in range(len(pearson)):\n",
    "        #     pearson[i] *= float(agerange - abs(self.users[user].age - self.users[i].age)) / agerange\n",
    "        #     if self.users[i].sex == self.users[user].sex:\n",
    "        #         pearson[i] *= 1.1\n",
    "        #     else:\n",
    "        #         pearson[i] *= 0.9\n",
    "        top_similar = np.argsort(pearson)[-top_n:]\n",
    "        s, c = 0, 0\n",
    "        for t in top_similar:\n",
    "            if self.normRating[t][gid] != 0:\n",
    "                s += self.normRating[t][gid] * pearson[t]\n",
    "                c += pearson[t]\n",
    "\n",
    "        rate = self.users[user].avg_rating + float(s) / c\n",
    "        if rate < 1.0:\n",
    "            return 1.0\n",
    "        elif rate > 5.0:\n",
    "            return 5.0\n",
    "        else:\n",
    "            return rate\n",
    "\n",
    "    def get_rmse(self):\n",
    "        error = 0.00\n",
    "        cnt = 0\n",
    "        err1, err2, c1, c2 = 0, 0, 0, 0\n",
    "\n",
    "        for user in self.users:\n",
    "            uid = user.id\n",
    "            for mov in self.movies:\n",
    "                mid = mov.id\n",
    "                if self.test[uid][mid] != 0:\n",
    "                    pred1 = self.guess(uid, mid, 150)\n",
    "                    pred2 = self.guess2(uid, mid)\n",
    "                    pred = 0.85 * pred1 + 0.15 * pred2\n",
    "                    error += (pred - self.test[uid][mid]) ** 2\n",
    "                    cnt += 1\n",
    "                    err1 += (pred1 - self.test[uid][mid]) ** 2\n",
    "                    err2 += (pred2 - self.test[uid][mid]) ** 2\n",
    "                    c1 += 1\n",
    "                    c2 += 1\n",
    "\n",
    "        print \"RMSE=\", (float(error) / cnt) ** 0.5\n",
    "        print \"RMSE 1=\", (float(err1) / c1) ** 0.5\n",
    "        print \"RMSE 2=\", (float(err2) / c2) ** 0.5\n",
    "\n",
    "    def decide_usergenre(self,top_n=30,genre_no = 3):\n",
    "        for user in self.users:\n",
    "            pg = [0]*len(self.genres)\n",
    "            res = np.argsort(self.normRating[user.id])[-genre_no:]\n",
    "            for r in res:\n",
    "                pg[r] += 1\n",
    "            pearson = self.pcs[user.id]\n",
    "            # for i in range(len(pearson)):\n",
    "            #     if self.users[i].sex != self.users[user.id].sex:\n",
    "            #         pearson[i] *= 0.9\n",
    "            top_similar = np.argsort(pearson)[-top_n:]\n",
    "            for t in top_similar:\n",
    "                res = np.argsort(self.normRating[t])[-genre_no:]\n",
    "                for r in res:\n",
    "                    pg[r] += 1\n",
    "\n",
    "            user.pref_genre = np.argsort(pg)[-genre_no:]\n",
    "            # user.pref_genre = np.argsort(self.normRating[user.id])[-genre_no:]\n",
    "\n",
    "    def calculate_movieAvgRating(self):\n",
    "        for m in self.movies:\n",
    "            rating = 0\n",
    "            cnt = 0\n",
    "            for u in self.users:\n",
    "                if self.train[u.id][m.id] != 0:\n",
    "                    rating += self.train[u.id][m.id]\n",
    "                    cnt += 1\n",
    "            if cnt == 0:\n",
    "                m.avg_rating = 0\n",
    "            else:\n",
    "                m.avg_rating = float(rating)/cnt\n",
    "\n",
    "    def guess2(self,user,movie):\n",
    "        up = self.users[user].pref_genre\n",
    "        gen = self.movies[movie].genre\n",
    "        mg = []\n",
    "        for i in range(len(self.genres)):\n",
    "            if gen[self.genres[i]] != 0:\n",
    "                mg.append(i)\n",
    "        # for g in self.genres:\n",
    "        #     if gen[g] == 1:\n",
    "        #         mg.append(gen[g])\n",
    "\n",
    "        rating = 0\n",
    "        for k in up:\n",
    "            for j in mg:\n",
    "                rating += self.genre_corr[k][j]\n",
    "        rating *= self.movies[movie].avg_rating\n",
    "        rate = float(rating)/len(up)\n",
    "        if rate < 1.0:\n",
    "            return 1.0\n",
    "        elif rate > 5.0:\n",
    "            return 5.0\n",
    "        else:\n",
    "            return rate\n",
    "\n",
    "    def load_allData(self):\n",
    "        self.load_data()\n",
    "        self.movieClustering()\n",
    "        self.create_ratingmatrix()\n",
    "        self.calculate_avgUserRating()\n",
    "        self.normalize_rating()\n",
    "        self.calculate_pearsonCC()\n",
    "        self.decide_usergenre()\n",
    "        self.calculate_movieAvgRating()\n",
    "        self.data.genre_correlation()\n",
    "        # self.genre_corr = self.data.genre_corr\n",
    "        self.genre_corr = self.data.genre_corr_wordnet()\n",
    "        self.get_rmse()\n",
    "\n",
    "obj = MoviePredict()\n",
    "obj.load_allData()\n"
   ]
  },
  {
   "cell_type": "markdown",
   "metadata": {},
   "source": [
    "## Evaluation\n",
    "### Test Data\n",
    "We used the movielens dataset i.e. ml-100k. Based on the ratings provided by the users during training, we predicted the ratings for other user movie pairs in testing data set. After all the ratings were predicted, RMSE was calculated for various demographic combinations and the results were plotted.\n",
    "\n",
    "### Results and Evaluations\n",
    "\n",
    "<img src=\"files/images/image.png\",width=500,height=600>\n",
    "From the above graph we can see that as we start to bias our model with age and sex, our RMSE starts dropping. With age and sex bias, our RMSE comes out to be around 1.37 as compared to 1.40 without any bias. This can be due to the fact that users of similar ages and same sex tend to watch the similar movies and give almost the same ratings. However, the drop in the RMSE is not significant enough to generalize the demographic biases.\n",
    "\n",
    "<img src=\"files/images/image1.png\",width=500,height=600>\n",
    "In the above case, we are modelling our recommender system with genre-genre correlation. The RMSE drop by using age and sex biases as before. However, the RMSE values from genre-genre correlation is higher than that of the bias form mean average because in this case, because we are implicitly finding out the user's preferred genre which might not be the best representation.\n",
    "\n",
    "<img src=\"files/images/image2.png\",width=500,height=600>\n",
    "The weights used in case of no bias were 0.85 for bias form mean average and 0.15 for genre correlation predictions. These weights reduced the RMSE for the test data where no demographic biases were used for determining similarity . However, this division or choice of weights might not be appropriate when demographic bias i.e. age and sex biases were introduced to determine user user similarity. To reduce RMSE for the demographic bias cases, we should choose different weights appropriate for the scenario."
   ]
  },
  {
   "cell_type": "markdown",
   "metadata": {},
   "source": [
    "## Conclusion and next steps\n",
    "\n",
    "### Things we learned:\n",
    "\n",
    "1). Design a hybrid recommender system, that builds user profile based on the genres of the movies watched by him and determines the rating of a movie by user based on movie genre and user user similarity.\n",
    "<br/>2). Features of the items and users that can be used to determine ratings and user-user similarity. For movie, we used its genre, while for user we build simialrity based on the movie genres it has watched, the sex of the user and his/her age.\n",
    "<br/>3). Demographic similarity between users cannot be generalized.\n",
    "\n",
    "### Learned concepts used in the project:\n",
    "1). Recommender system designs: Model based, content based and hybrid models.\n",
    "<br/>2). User-user Collaborative filtering.\n",
    "<br/>3). RMSE evaluations\n",
    "\n",
    "### Next steps:\n",
    "1). The major reason for a high RMSE for genre correlation based prediction was that the user's preferred genre was implicitly calculated. We took into account the genres that were most watched by the user and its other similar users. This might not provide correct estimations for preferred genres. Taking explicit input from user will definitely provide more accurate predictions.\n",
    "<br/>2). An efficient method for prediction would be to find latent factors and reduce the rating utility matrix into a lower dimension by mapping users and movies into this latent factor space. The techniques used in the project can then be used with these new features and the ratings can be linearlly blended to provide better ratings."
   ]
  },
  {
   "cell_type": "markdown",
   "metadata": {},
   "source": [
    "## References:"
   ]
  },
  {
   "cell_type": "markdown",
   "metadata": {},
   "source": [
    "[1]. [Kyung-Rog Kim, Ju-Ho Lee and Jae-Hee Byeon, \"Recommender System Using the Movie Genre Similarity in Mobile Service\"](http://ieeexplore.ieee.org/document/5575081/) <br/>\n",
    "[2]. [Sang-Min Choi, Da-Jung Cho, Yo-sub Han, \"Recommender Systems Using Category Correlations Based on WordNet Similarity\"](http://ieeexplore.ieee.org/document/7079614/authors) <br/>\n",
    "[3]. [Movielens database](https://grouplens.org/datasets/movielens/)"
   ]
  }
 ],
 "metadata": {
  "anaconda-cloud": {},
  "kernelspec": {
   "display_name": "Python 2",
   "language": "python",
   "name": "python2"
  },
  "language_info": {
   "codemirror_mode": {
    "name": "ipython",
    "version": 2
   },
   "file_extension": ".py",
   "mimetype": "text/x-python",
   "name": "python",
   "nbconvert_exporter": "python",
   "pygments_lexer": "ipython2",
   "version": "2.7.13"
  }
 },
 "nbformat": 4,
 "nbformat_minor": 0
}
