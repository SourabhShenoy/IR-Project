{
 "cells": [
  {
   "cell_type": "markdown",
   "metadata": {},
   "source": [
    "# Category and User Similarity Based Recommender System"
   ]
  },
  {
   "cell_type": "markdown",
   "metadata": {},
   "source": [
    "Team Members: Kritika Kurani, Shivanshu Arora, Sourabh Shenoy"
   ]
  },
  {
   "cell_type": "markdown",
   "metadata": {},
   "source": [
    "### Inroduction and Problem Statement: "
   ]
  },
  {
   "cell_type": "markdown",
   "metadata": {},
   "source": [
    "The web has a large collection of documents. Most of the time spent by a user on the web is often in search of information relevant to his topic of interest. This is where recommender systems come into play. Collaborative Filtering is one of the primary approaches used in recommender systems. However, it suffers from problems such as cold start and a sparse utility matrix. In this project, we implement a hybrid approach where we use collaborative filtering and movie genre which would solve the aforementioned problems, while also attempting to reduce the Root Mean Squared Error (RMSE). We compare this approach with another where we establish movie correlations based on genre compositions and wordnet similarity between genres.\n",
    "This project attempts to build a simpler model for movie recommendations using minimal and most important features."
   ]
  },
  {
   "cell_type": "markdown",
   "metadata": {},
   "source": [
    "### Related Work:"
   ]
  },
  {
   "cell_type": "markdown",
   "metadata": {},
   "source": [
    "### Previous Work:\n",
    "\n",
    "A) Collaborative Filtering based on User Preferences: User Similarity is measured based on Pearson Coefficient, which is measured using the formula [1] given below: <img src=\"pc.jpg\",width=300,height=300>\n",
    "\n",
    "\n",
    "Where, X is a user selected for recommendation, and  X' is a mean rating of user X. Then, σX is the standard deviation of rating of user X. Xi is the rating for the ith item by user X. Let Y be the other users. The Pearson correlation coefficient is always between -1 and 1.\n",
    "\n",
    "B) Genre Correlation: Each movie belongs to at least one genre. Correlation is found by introducing edges from every preceeding genres to the genres following it. For each edge, the counter for the genre-genre is incrememted. For example, if genre combination is G1 | G2 | G5, then G1 is selected as a criterion genre first and increase by one between a criterion genre G1 and another G2 and G5. Next, G2 is selected as a criterion genre, and increase by one between G2 and G5. After all the values are obtained, the rows and columns are normalised. [1]. User ratings are predcited based on the preferred genres of users, which is obtained explicitly, and the genre correlations of the genres that movie belongs to.\n",
    "\n",
    "### How our approach differentiates:\n",
    "\n",
    "A) Collaborative Filtering:\n",
    "To measure user similarity, we use Pearson corrleation as above. We also determine the effect of demographics (age and gender) on user similarity and thereby movie rating predictions. \n",
    "\n",
    "B) Genre Correlation:\n",
    "Previous approaches have user preferred genres explicitly defined, much similar to netflix or movielens which asks new users to provide their preferred genres. Since we do not have that data available, we determine user preferred genres based on the pearson similarity calculated above. The three genres that were found to be prevalent among the neighbors of the user were assigned as that user's preferred genres. "
   ]
  },
  {
   "cell_type": "markdown",
   "metadata": {},
   "source": [
    "### Our Approach: "
   ]
  },
  {
   "cell_type": "markdown",
   "metadata": {},
   "source": [
    "### Dataset Used:"
   ]
  },
  {
   "cell_type": "markdown",
   "metadata": {},
   "source": [
    "Movielens 100k dataset has been used in this project. \n",
    "u.base file contains the user id, movie id and the corresponding rating. \n",
    "u.genre file contains the list of all genres. \n",
    "u.item has data about the movie id, movie name, release date, imdb link and a boolean vector representing the combination of genres it belongs to. \n",
    "u.user has information such as user id, age, sex, occupation and zip code."
   ]
  },
  {
   "cell_type": "markdown",
   "metadata": {},
   "source": [
    "We organized users, movies and ratings into separate classes.\n",
    "The class structure is as follows:\n",
    "### User Class\n",
    "<img src=\"user.jpg\",width=500,height=500>\n",
    "\n",
    "### Movie Class\n",
    "<img src=\"movie.jpg\",width=500,height=500>\n",
    "\n",
    "### Dataset Info\n",
    "<img src=\"info.jpg\",width=500,height=600>\n"
   ]
  },
  {
   "cell_type": "code",
   "execution_count": 6,
   "metadata": {
    "collapsed": true
   },
   "outputs": [],
   "source": [
    "class User:\n",
    "    def __init__(self,user_id,age,sex,occupation,zipcode):\n",
    "        self.id = user_id\n",
    "        self.age = age\n",
    "        self.sex = sex\n",
    "        self.occupation = occupation\n",
    "        self.zipcode = zipcode\n",
    "        self.avg_rating = 0\n",
    "        self.pref_genre = []\n",
    "\n",
    "class Movie:\n",
    "    def __init__(self,movie_id,name,release_data,imdb_link,genre):\n",
    "        self.id = movie_id\n",
    "        self.name = name\n",
    "        self.release_date = release_data\n",
    "        self.imdb_link = imdb_link\n",
    "        self.genre = genre\n",
    "        self.avg_rating = 0\n",
    "\n",
    "\n",
    "class Rating:\n",
    "    def rating_matrix(self,rate_matrix,filename):\n",
    "        f = open(filename, \"r\")\n",
    "        print filename\n",
    "        ratings = f.readlines()\n",
    "        for r in ratings:\n",
    "            r = r.split(\"\\t\")\n",
    "            rate_matrix[int(r[0])-1][int(r[1])-1] = int(r[2])\n"
   ]
  },
  {
   "cell_type": "markdown",
   "metadata": {},
   "source": [
    "The next step was to collect the data. We created a class which will read the values from the corresponding files and populate the User, Movie and Rating objects."
   ]
  },
  {
   "cell_type": "code",
   "execution_count": 3,
   "metadata": {
    "collapsed": true
   },
   "outputs": [],
   "source": [
    "class Data:\n",
    "    def __init__(self):\n",
    "        self.genres_list = self.get_genres()\n",
    "        self.genre_corr = [[0 for col in range(19)] for row in range(19)]\n",
    "\n",
    "    def user_data(self):\n",
    "        users = []\n",
    "        f = open(\"./ml-100k/u.user\",\"r\")\n",
    "        lines = f.readlines()\n",
    "        for line in lines:\n",
    "            data = line.split(\"|\")\n",
    "            new_user = User(int(data[0])-1,int(data[1]),data[2],data[3],data[4])\n",
    "            users.append(new_user)\n",
    "        return users\n",
    "\n",
    "    def movies_data(self):\n",
    "        movies = []\n",
    "        f = open(\"./ml-100k/u.item\",\"r\")\n",
    "        lines = f.readlines()\n",
    "        # making a movie object\n",
    "        for line in lines:\n",
    "            new_movie = []\n",
    "            data = line.split(\"|\")\n",
    "            genre = {}\n",
    "            i = 5\n",
    "            for g in self.genres_list:\n",
    "                genre[g] = int(data[i])\n",
    "                i += 1\n",
    "            new_movie = Movie(int(data[0])-1,data[1],data[2],data[3],genre)\n",
    "            movies.append(new_movie)\n",
    "        return movies\n",
    "\n",
    "    def get_genres(self):\n",
    "        f_genre = open(\"./ml-100k/u.genre\", \"r\")\n",
    "        genres = []\n",
    "        # getting all the genres\n",
    "        lines = f_genre.readlines()\n",
    "        for line in lines:\n",
    "            line = line.split(\"|\")\n",
    "            genres.append(line[0])\n",
    "        return genres[:-1]\n",
    "\n",
    "    def create_rating_matrix(self,rate_matrix,filename):\n",
    "        r = Rating()\n",
    "        #rate_matrix = np.zeros((943, 1682))\n",
    "        r.rating_matrix(rate_matrix,filename)\n",
    "        #print rate_matrix[0]\n",
    "\n",
    "    def genre_correlation(self):\n",
    "        f = open(\"./ml-100k/u.item\", \"r\")\n",
    "        lines = f.readlines()\n",
    "        for i in range(19):\n",
    "            self.genre_corr[i][i] = 1\n",
    "        for line in lines:\n",
    "            data = line.split(\"|\")\n",
    "            genre = data[5:]\n",
    "            avg = 0\n",
    "            k = 0\n",
    "            genre = [int(x) for x in genre]\n",
    "            for i in range(19):\n",
    "                if genre[i] == 1:\n",
    "                    for j in range(i+1,19):\n",
    "                        if genre[j] == 1:\n",
    "                            self.genre_corr[i][j] += 1\n",
    "                            self.genre_corr[j][i] += 1\n",
    "\n",
    "        for i in range(19):\n",
    "            avg = sum(self.genre_corr[i])-1\n",
    "            if avg != 0:\n",
    "                self.genre_corr[i] = [(float(x)/avg) for x in self.genre_corr[i]]\n",
    "                self.genre_corr[i][i] = 1"
   ]
  },
  {
   "cell_type": "markdown",
   "metadata": {},
   "source": [
    "# Predicting the movie ratings"
   ]
  },
  {
   "cell_type": "markdown",
   "metadata": {},
   "source": [
    "## MoviePredict class\n",
    "\n",
    "We create a separate class that imports the Data class defined above and retrieves the data stored in files. Next, we work on predicting the rating based on users and movies obtained from the training and testing data files."
   ]
  },
  {
   "cell_type": "markdown",
   "metadata": {},
   "source": [
    "## Movie Clustering\n",
    "\n",
    "Since a movie belongs to one or more genres, the movies need to be clustered so that it now belongs to the most important genre. We used K-means clustering to achieve this which was initialized with 19 seeds that were determined based on certain heuristics which speeds up convergence. This was achieved using sklearn module in Python."
   ]
  },
  {
   "cell_type": "markdown",
   "metadata": {},
   "source": [
    "## Ratings Matrix: Users to Genres\n",
    "\n",
    "The utility matrix in a movie recommender system provides the ratings from a user for a movie. Since we try to establish a relation between movies based on their genres, it is crucial to determine which genres are more interesting to users. To achieve this, we use the ratings available in training data. For each user movie pair, the prevalent genre of the movie is determined from the clustering created above and added to the list of movie genre pair.\n",
    "After all the ratings of the training data have been analyzed, we have a matrix that stores all the ratings by a user to a particular genre. Next, for every user genre pair, we determine the average of each, so we have the an average user genre rating at the end."
   ]
  },
  {
   "cell_type": "markdown",
   "metadata": {},
   "source": [
    "## Average User Ratings\n",
    "\n",
    "For every user, the average of all the ratings provided by him to the movies is calculated and stored in individual user objects."
   ]
  },
  {
   "cell_type": "markdown",
   "metadata": {},
   "source": [
    "## Normalize Ratings\n",
    "\n",
    "We normalize the ratings i.e. subtract the average user ratings from the user genre ratings in order to account for user personalities. Let's say a user is highly optimistic and provides high ratings (say, 3-5) to all the movies he's watched and another user is critical and provides a rating of 3 to a movie he really liked and a rating of 1 he dislikes. These two users may have similar tastes but if we do not normalize the ratings, these users may seem far from being similar."
   ]
  },
  {
   "cell_type": "markdown",
   "metadata": {},
   "source": [
    "## Pearson Similarity\n",
    "\n",
    "After we calculate the normalized ratings for each user genre pair, we find the similarity based on these ratings using the Pearson correlation Coefficient defined above."
   ]
  },
  {
   "cell_type": "markdown",
   "metadata": {},
   "source": [
    "## Bias Form Mean Average - Prediction I\n",
    "\n",
    "To determine the user rating for a particular movie, we use weighted average of the ratings provide by other similar users which are the top 150 users with highest pearson correlation coefficient to the user in question.\n",
    "To predict a rating for a movie from a user, we determine the genre of the movie based on the clustering provided above. Then the predicted rating would be the sum of user's average rating for the genre and summation of product of similarity and normalized rating for the neighbors divided by the summation of similarities of all the neighbors."
   ]
  },
  {
   "cell_type": "markdown",
   "metadata": {},
   "source": [
    "## User preferred genres\n",
    "\n",
    "Since we do not have explicit information about the preferred genres of each user, we determine the majority genres among similar users. \n",
    "We again determine top 150 users with highest Pearson Correlation with the user in question. For each neighbor and the user himself, we take into account the three genres with highest normalized ratings. The three genres with the highest cumulative score are then designated as the user's preferred genres."
   ]
  },
  {
   "cell_type": "markdown",
   "metadata": {},
   "source": [
    "## Computing Genre Correlation\n",
    "\n",
    "We use two approaches to determine genre correlation:\n",
    "\n",
    "1). Since a movie belongs to at least one genre, say G1,G2,G5, there definitely exists some relation between the genres. To account for this relation, we create a matrix of genre by genre. Taking G1 as primary genre, we increment the value of G1-G2 by 1 and G1-G5 by 1. Next, considering G2 as primary genre, we increment G2-G5 by 1. After accounting for genre correlations of all the movie in the dataset, we normalize the correlation matrix created.\n",
    "\n",
    "2). Above approach has a limitation since they utilize genre combinations to establish connections between genres. This is highly dependent on the training set available. We try to alleviate this using WordNet. It provides similarity between words based on inherited hypernym."
   ]
  },
  {
   "cell_type": "markdown",
   "metadata": {},
   "source": [
    "## Genre Correlation Ratings - Prediction II\n",
    "\n",
    "The first step here is to compute the average movie ratings, which were calculated and assigned to individual movie objects. \n",
    "To predict a rating for a user movie pair, we compute summation of correlation values of all pairs of user preferred genre and the genres of the movie under consideration. This value is then multiplied with the average movie rating and divided by the number of user preferred genres, which in our case if fixed to be 3, but in real time scenarios, can vary from user to user."
   ]
  },
  {
   "cell_type": "code",
   "execution_count": 5,
   "metadata": {
    "collapsed": false
   },
   "outputs": [],
   "source": [
    "    def movieClustering(self):\n",
    "        movie_genre = []\n",
    "        for m in self.movies:\n",
    "            mg = []\n",
    "            for g in self.genres:\n",
    "                mg.append(m.genre[g])\n",
    "            movie_genre.append(mg)\n",
    "\n",
    "        movie_genre = np.array(movie_genre)\n",
    "        self.movie_cluster = KMeans(n_clusters=len(self.genres)).fit_predict(movie_genre)\n"
   ]
  },
  {
   "cell_type": "markdown",
   "metadata": {},
   "source": [
    "### References:"
   ]
  },
  {
   "cell_type": "markdown",
   "metadata": {},
   "source": [
    "1) A Content Recommendation System Based on Category Correlations; Sang-Min Choi, Yo-Sub Han"
   ]
  },
  {
   "cell_type": "code",
   "execution_count": null,
   "metadata": {
    "collapsed": true
   },
   "outputs": [],
   "source": []
  }
 ],
 "metadata": {
  "anaconda-cloud": {},
  "kernelspec": {
   "display_name": "Python [cs670]",
   "language": "python",
   "name": "Python [cs670]"
  },
  "language_info": {
   "codemirror_mode": {
    "name": "ipython",
    "version": 2
   },
   "file_extension": ".py",
   "mimetype": "text/x-python",
   "name": "python",
   "nbconvert_exporter": "python",
   "pygments_lexer": "ipython2",
   "version": "2.7.13"
  }
 },
 "nbformat": 4,
 "nbformat_minor": 0
}
